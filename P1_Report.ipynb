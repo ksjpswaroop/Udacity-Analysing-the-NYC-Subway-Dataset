{
 "cells": [
  {
   "cell_type": "markdown",
   "metadata": {},
   "source": [
    "# Analysing the NYC Subway Dataset\n",
    "## Data Analyst Nanodegree Program - Udacity\n",
    "*Surya Kallakuri*"
   ]
  },
  {
   "cell_type": "code",
   "execution_count": 4,
   "metadata": {
    "collapsed": false
   },
   "outputs": [],
   "source": [
    "%matplotlib inline\n",
    "import pandas as pd\n",
    "import matplotlib.pyplot as plt\n",
    "import scipy.stats as ss\n",
    "import numpy as np\n",
    "import statsmodels.api as sm\n",
    "import random\n",
    "from ggplot import *\n",
    "\n",
    "# Set global seeds for reproducibility\n",
    "np.random.seed(1072015)\n",
    "random.seed(1072015) \n",
    "\n",
    "twdf = pd.read_csv('data/turnstile_weather_v2.csv') # Load the improved dataset\n",
    "eh_rain = twdf[twdf.rain == 1].ENTRIESn_hourly # Get entries by hour with rain\n",
    "eh_norain = twdf[twdf.rain == 0].ENTRIESn_hourly # Get entries by hour witouth rain"
   ]
  },
  {
   "cell_type": "markdown",
   "metadata": {},
   "source": [
    "### Section 0. References\n",
    "\n",
    "1. [Easily create train and test samples](http://stackoverflow.com/questions/24147278/how-do-i-create-test-and-train-samples-from-one-dataframe-with-pandas)\n",
    "\n",
    "2. [Remove constant columns](http://stackoverflow.com/questions/20209600/panda-dataframe-remove-constant-column)\n",
    "\n",
    "3. [Residuals analysis](http://www.itl.nist.gov/div898/handbook/pri/section2/pri24.htm)\n",
    "\n",
    "4. [R<sup>2</sup> interpretation](https://en.wikipedia.org/wiki/Coefficient_of_determination#Interpretation)\n",
    "\n",
    "5. [Custom axis tick label names in ggplot](http://stackoverflow.com/questions/23564607/how-to-change-x-axis-tick-label-names-order-and-boxplot-colour-using-r-ggplot)\n",
    "\n",
    "6. [Q-Q plot](https://en.wikipedia.org/wiki/Q%E2%80%93Q_plot)\n",
    "\n",
    "7. [Machine Learning Course](https://www.coursera.org/learn/machine-learning/)\n",
    "\n",
    "8. [Scipy documentation for Mann–Whitney U test](http://docs.scipy.org/doc/scipy/reference/generated/scipy.stats.mannwhitneyu.html#scipy.stats.mannwhitneyu)\n",
    "\n",
    "9. [Mann–Whitney U test](https://en.wikipedia.org/wiki/Mann%E2%80%93Whitney_U_test)\n",
    "\n",
    "\n",
    "\n",
    "### Section 1. Statistical Test\n",
    "\n",
    "#### 1.1 Which statistical test did you use to analyse the NYC subway data? Did you use a one-tail or a two-tail P value? What is the null hypothesis? What is your p-critical value?\n",
    "\n",
    "We used the Mann-Whitney U test. We wanted to analyse if the distribution of ridership in rainy days provides statistically significant larger/smaller values than the distribution in days without rain. Since it is hard to determine a priori the directionality of a possible difference, we used a two-tail p-value. Our null hypothesis was that the distributions of both groups were the same, so there was a 50% probability that an observation from a value randomly selected from one population exceeds an observation randomly selected from the other population. Our p-critical value was 0.05.\n",
    "\n",
    "#### 1.2 Why is this statistical test applicable to the dataset? In particular, consider the assumptions that the test is making about the distribution of ridership in the two samples.\n",
    "\n",
    "One of the assumptions to perform a t-test is that we are working with a normal distribution. After analysing a histogram of ridership for rainy and non-rainy days we can see that they have non-normal distributions: "
   ]
  },
  {
   "cell_type": "code",
   "execution_count": 5,
   "metadata": {
    "collapsed": false
   },
   "outputs": [
    {
     "data": {
      "image/png": "[encoded data removed]",
      "text/plain": [
       "<matplotlib.figure.Figure at 0x197ad198>"
      ]
     },
     "metadata": {},
     "output_type": "display_data"
    }
   ],
   "source": [
    "plt.figure()\n",
    "twdf[(twdf.rain == 0) & (twdf.ENTRIESn_hourly <= 6000)]['ENTRIESn_hourly'].hist(bins = 25, label = 'No rain') \n",
    "twdf[(twdf.rain == 1) & (twdf.ENTRIESn_hourly <= 6000)]['ENTRIESn_hourly'].hist(bins = 20, alpha = 0.75, label = 'Rain') \n",
    "plt.xlabel('ENTRIESn_hourly')\n",
    "plt.ylabel('Frequency')\n",
    "plt.title('Histogram of ENTRIESn_hourly')\n",
    "plt.legend()\n",
    "plt.show()"
   ]
  },
  {
   "cell_type": "markdown",
   "metadata": {},
   "source": [
    "This is corroborated by the Shapiro-Wilk test, which returns a p-value that is close to 0 for both distributions when checking for normality. So in this case we reject the null hypothesis (normality):"
   ]
  },
  {
   "cell_type": "code",
   "execution_count": 6,
   "metadata": {
    "collapsed": false
   },
   "outputs": [
    {
     "name": "stdout",
     "output_type": "stream",
     "text": [
      "The shapiro test for the rain distribution is 0.574, with a p-value of 6.30584308946e-44\n",
      "The shapiro test for the non-rain distribution is 0.618, with a p-value of 2.49150866957e-42\n"
     ]
    }
   ],
   "source": [
    "(W, p) = ss.shapiro(random.sample(eh_rain, 1000)) # We need only a random sample to check normality\n",
    "print 'The shapiro test for the rain distribution is {:.3}, with a p-value of {}'.format(W, p)\n",
    "(W, p) = ss.shapiro(random.sample(eh_norain, 1000)) # We need only a random sample to check normality\n",
    "print 'The shapiro test for the non-rain distribution is {:.3}, with a p-value of {}'.format(W, p)"
   ]
  },
  {
   "cell_type": "markdown",
   "metadata": {},
   "source": [
    "An alternative to the t-test is to use a non-parametric test, like Mann-Whitney U test, which does not make any assumptions about the distribution. Furthermore, its efficiency is similar to that from t-test when we have large samples, like in this case:"
   ]
  },
  {
   "cell_type": "code",
   "execution_count": 7,
   "metadata": {
    "collapsed": false
   },
   "outputs": [
    {
     "name": "stdout",
     "output_type": "stream",
     "text": [
      "- number of records for rainy days: 9,585\n",
      "- number of records for non-rainy days: 33,064\n"
     ]
    }
   ],
   "source": [
    "print '- number of records for rainy days: {:,}'.format(len(eh_rain))\n",
    "print '- number of records for non-rainy days: {:,}'.format(len(eh_norain))"
   ]
  },
  {
   "cell_type": "markdown",
   "metadata": {},
   "source": [
    "#### 1.3 What results did you get from this statistical test? These should include the following numerical values: p-values, as well as the means for each of the two samples under test."
   ]
  },
  {
   "cell_type": "code",
   "execution_count": 8,
   "metadata": {
    "collapsed": false
   },
   "outputs": [
    {
     "name": "stdout",
     "output_type": "stream",
     "text": [
      "- Mann-Whitney U value: 153,635,120.5\n",
      "- p-value: nan (one-tail p-value, the default in scipy.stats.mannwhitneyu)\n",
      "- Mean entries for rainy days: 2,028.2\n",
      "- Mean entries for non-rainy days: 1,845.54\n"
     ]
    }
   ],
   "source": [
    "with_rain_mean = np.mean(eh_rain)\n",
    "without_rain_mean = np.mean(eh_norain)\n",
    "(U, p) = ss.mannwhitneyu(eh_rain, eh_norain)\n",
    "print '- Mann-Whitney U value: {:,.12}'.format(U)\n",
    "print '- p-value: {:.6} (one-tail p-value, the default in scipy.stats.mannwhitneyu)'.format(p)\n",
    "print '- Mean entries for rainy days: {:,.6}'.format(with_rain_mean)\n",
    "print '- Mean entries for non-rainy days: {:,.6}'.format(without_rain_mean)"
   ]
  },
  {
   "cell_type": "markdown",
   "metadata": {},
   "source": [
    "#### 1.4 What is the significance and interpretation of these results?\n",
    "\n",
    "The two-tail p-value would be the double, because we have to multiply by 2 the one-tail p-value obtained from scipy.stats.mannwhitneyu test. Our p-critical value is 0.05. This means that we would reject the null hypothesis for p-values lower or equal of 0.05. Since it is our case, we reject the null hypothesis. After analysing the means, we could have the idea that maybe the directionality is toward rainy days (they have more ridership entries), but it will require further analysis."
   ]
  },
  {
   "cell_type": "markdown",
   "metadata": {},
   "source": [
    "### Section 2. Linear Regression\n",
    "\n",
    "*Some useful functions to answer the questions:*"
   ]
  },
  {
   "cell_type": "code",
   "execution_count": 9,
   "metadata": {
    "collapsed": true
   },
   "outputs": [],
   "source": [
    "def plot_residuals(values, predictions):\n",
    "    \"\"\"\n",
    "    Plot the error distribution (residuals): difference between the real value and the predicted value.\n",
    "    \"\"\"\n",
    "    plt.figure()\n",
    "    pd.DataFrame((values - predictions)).hist(bins = 50)\n",
    "    plt.xlabel('Residuals')\n",
    "    plt.ylabel('Relative frequency')\n",
    "    plt.title('Residuals Distribution')\n",
    "    return plt\n",
    "    \n",
    "    \n",
    "def compute_r_squared(data, predictions):\n",
    "    \"\"\"\n",
    "    Computes the R squared using the real data and the predicted data.\n",
    "    \"\"\"\n",
    "    r_squared = 1 - (np.sum((data - predictions) ** 2) / np.sum((data - np.mean(data)) ** 2))\n",
    "    return r_squared\n",
    "\n",
    "\n",
    "def createSubsets(features, values):\n",
    "    \"\"\"\n",
    "    Divides a dataset (features + values) into 3 random subsets. The distribution is approximately:\n",
    "    - 60% for training set\n",
    "    - 20% for validation set\n",
    "    - 20% for test set\n",
    "    \"\"\"\n",
    "    msk = np.random.rand(len(values)) <= 0.6 # 60 % for training\n",
    "    trainF = features[msk]  \n",
    "    trainV = values[msk]\n",
    "    remainingF = features[~msk]\n",
    "    remainingV = values[~msk]\n",
    "    msk = np.random.rand(len(remainingV)) <= 0.5 # the remaining (40%) is 50% for test and 50% for validation\n",
    "    testF = remainingF[msk]\n",
    "    testV = remainingV[msk]\n",
    "    validationF = remainingF[~msk]\n",
    "    validationV = remainingV[~msk]\n",
    "    \n",
    "    # Remove constant features (training set) in all the sets\n",
    "    msk = (trainF != trainF.ix[min(trainF.index)]).any()\n",
    "    for i in range(0, len(msk)):\n",
    "        if (msk[i] == False):\n",
    "            print 'Warning constant feature removed: {}'.format(trainF.columns.values[i])\n",
    "    \n",
    "    return trainF.loc[:, msk], trainV, testF.loc[:, msk], testV, validationF.loc[:, msk], validationV\n",
    "\n",
    "\n",
    "def getPredictions(features, intercept, params):\n",
    "    \"\"\"\n",
    "    Calculate the predictions using the feature values and the model parameters (including intercept).\n",
    "    \"\"\"\n",
    "    predictions = intercept + np.dot(features.values, params)\n",
    "    return predictions\n",
    "\n",
    "\n",
    "def normalize_features(features):\n",
    "    \"\"\"\n",
    "    Normalize features (substract mean and divide by starndar deviation).\n",
    "    \"\"\"\n",
    "    means = np.mean(features, axis=0)\n",
    "    std_devs = np.std(features, axis=0)\n",
    "    normalized_features = (features - means) / std_devs\n",
    "    return means, std_devs, normalized_features\n",
    "\n",
    "\n",
    "def recover_params(means, std_devs, norm_intercept, norm_params):\n",
    "    \"\"\"\n",
    "    Recover original values of normalized features. Also recover the intercept withouth the 'spare capacity' that\n",
    "    includes in the model with normalized features.\n",
    "    \"\"\"\n",
    "    intercept = norm_intercept - np.sum(means * norm_params / std_devs)\n",
    "    params = norm_params / std_devs\n",
    "    return intercept, params"
   ]
  },
  {
   "cell_type": "markdown",
   "metadata": {},
   "source": [
    "#### 2.1 What approach did you use to compute the coefficients theta and produce prediction for ENTRIESn_hourly in your regression model?\n",
    "\n",
    "Ordinary Least Squares (OLS) using Statsmodels package.\n",
    "\n",
    "#### 2.2 What features (input variables) did you use in your model? Did you use any dummy variables as part of your features?\n",
    "\n",
    "From the improved dataset, we have used 6 features: \"tempi\", \"precipi\", \"pressurei\", \"UNIT\", \"hour\" and \"day_week\". The last three are dummy variables."
   ]
  },
  {
   "cell_type": "code",
   "execution_count": 10,
   "metadata": {
    "collapsed": true
   },
   "outputs": [],
   "source": [
    "# First, take numerical features and normalize them\n",
    "features = twdf[['tempi', 'precipi', 'pressurei']]\n",
    "mean, std_devs, features = normalize_features(features)\n",
    "numNumericalFeatures = len(features.columns) # To know the number of features for recovering of normalization\n",
    "\n",
    "# Add dummy variables (dropping 1 column to avoid multicollinearity, because we will include a constant term)\n",
    "features = features.join((pd.get_dummies(twdf['UNIT'], prefix='unit').ix[:,1:]))\n",
    "features = features.join((pd.get_dummies(twdf['hour'], prefix='hour').ix[:,1:]))\n",
    "features = features.join((pd.get_dummies(twdf['day_week'], prefix='dayname').ix[:,1:]))\n",
    "\n",
    "# Set the dependent variable\n",
    "values = twdf['ENTRIESn_hourly']"
   ]
  },
  {
   "cell_type": "markdown",
   "metadata": {},
   "source": [
    "#### 2.3 Why did you select these features in your model?\n",
    "\n",
    "We thought that the most important predictors would the station, the day of the week and the hour of the day. After some tests, we saw that \"UNIT\" was a better predictor than the station name. It is logical because the dependent variable (\"ENTRIESn_hourly\") is related to a specific UNIT. We also thought that meteorological conditions could influence the behaviour of the users. We included \"rain\", \"fog\", \"wsdpi\", \"tempi\", \"precipi\", \"pressurei\". We used them instead mean, max or min values because we thought the \"current\" weather condition was that detected by the user, so this helps to decide if to take or not the subway. The results of the model summary told us that \"rain\", \"fog\" and \"wsdpi\" didn't have a good contribution to the model (they had high p-values and also their confidence interval included the 0 value).\n",
    "\n",
    "#### 2.4 What are the parameters (also known as \"coefficients\" or \"weights\") of the non-dummy features in your linear regression model?\n",
    "\n",
    "First, we divided the data into 3 subsets:\n",
    "\n",
    "- train (~60%): for training the model\n",
    "- validation (~20%): for evaluation different features and model configurations, and detecting overfitting\n",
    "- test (~20%): to report the final R<sup>2</sup> with unseen data"
   ]
  },
  {
   "cell_type": "code",
   "execution_count": 11,
   "metadata": {
    "collapsed": false
   },
   "outputs": [],
   "source": [
    "trainF, trainV, testF, testV, validationF, validationV = createSubsets(features, values)\n",
    "model = sm.OLS(trainV, sm.add_constant(trainF)).fit() # Fit the model, adding a constant value\n",
    "intercept = model.params[0]\n",
    "params = model.params[1:]"
   ]
  },
  {
   "cell_type": "markdown",
   "metadata": {},
   "source": [
    "The params for the non-dummy features, before recovering them from normalization, are:"
   ]
  },
  {
   "cell_type": "code",
   "execution_count": 12,
   "metadata": {
    "collapsed": false
   },
   "outputs": [
    {
     "data": {
      "text/plain": [
       "tempi       -136.572086\n",
       "precipi      -47.561119\n",
       "pressurei    -58.431362\n",
       "dtype: float64"
      ]
     },
     "execution_count": 12,
     "metadata": {},
     "output_type": "execute_result"
    }
   ],
   "source": [
    "params[0:numNumericalFeatures]"
   ]
  },
  {
   "cell_type": "markdown",
   "metadata": {},
   "source": [
    "And the recovered parameters are:"
   ]
  },
  {
   "cell_type": "code",
   "execution_count": 13,
   "metadata": {
    "collapsed": false
   },
   "outputs": [
    {
     "data": {
      "text/plain": [
       "tempi         -16.151868\n",
       "precipi     -1841.227365\n",
       "pressurei    -423.599974\n",
       "dtype: float64"
      ]
     },
     "execution_count": 13,
     "metadata": {},
     "output_type": "execute_result"
    }
   ],
   "source": [
    "rec_intercept, rec_params = recover_params(mean, std_devs, intercept, params[0:numNumericalFeatures])\n",
    "rec_params"
   ]
  },
  {
   "cell_type": "markdown",
   "metadata": {},
   "source": [
    "#### 2.5 What is your model’s R<sup>2</sup> (coefficients of determination) value?\n",
    "\n",
    "After training the model, we obtain this R<sup>2</sup> value:"
   ]
  },
  {
   "cell_type": "code",
   "execution_count": 14,
   "metadata": {
    "collapsed": false
   },
   "outputs": [
    {
     "name": "stdout",
     "output_type": "stream",
     "text": [
      "Training R^2: 0.547\n"
     ]
    }
   ],
   "source": [
    "predictions = getPredictions(trainF, intercept, params)\n",
    "r2 = compute_r_squared(trainV, predictions)\n",
    "print 'Training R^2: {:.3}'.format(r2)"
   ]
  },
  {
   "cell_type": "markdown",
   "metadata": {},
   "source": [
    "According to the residuals analysis, the behaviour of our model looks normal. Error distribution is approximately normal, more or less independently distributed and with mean around 0:"
   ]
  },
  {
   "cell_type": "code",
   "execution_count": 15,
   "metadata": {
    "collapsed": false
   },
   "outputs": [
    {
     "data": {
      "text/plain": [
       "<matplotlib.figure.Figure at 0x19e90f28>"
      ]
     },
     "metadata": {},
     "output_type": "display_data"
    },
    {
     "data": {
      "image/png": "[encoded data removed]",
      "text/plain": [
       "<matplotlib.figure.Figure at 0x197dd128>"
      ]
     },
     "metadata": {},
     "output_type": "display_data"
    }
   ],
   "source": [
    "plot_residuals(trainV, predictions).show()"
   ]
  },
  {
   "cell_type": "markdown",
   "metadata": {},
   "source": [
    "But there is a problem, which it is not easy to appreciate.  The histogram has a very large right tail. This indicates very large values for some residuals. We can use a Q-Q plot to check if the quantiles of our residuals distribution are similar to those from a standard normal distribution:"
   ]
  },
  {
   "cell_type": "code",
   "execution_count": 16,
   "metadata": {
    "collapsed": false
   },
   "outputs": [
    {
     "data": {
      "image/png": "[encoded data removed]",
      "text/plain": [
       "<matplotlib.figure.Figure at 0x19878898>"
      ]
     },
     "metadata": {},
     "output_type": "display_data"
    }
   ],
   "source": [
    "probplot = ss.probplot(trainV-predictions, plot=plt)"
   ]
  },
  {
   "cell_type": "markdown",
   "metadata": {},
   "source": [
    "We can see that the adjustment is not perfect for bottom quantiles, but the big problem is in the upper quantiles. If we plot the values of the dependent variable (ENTRIESn_hourly) with their corresponding absolute residual, we can appreciate big deviations toward the larger values:"
   ]
  },
  {
   "cell_type": "code",
   "execution_count": 17,
   "metadata": {
    "collapsed": false
   },
   "outputs": [
    {
     "data": {
      "text/plain": [
       "<matplotlib.text.Text at 0x195f2c50>"
      ]
     },
     "execution_count": 17,
     "metadata": {},
     "output_type": "execute_result"
    },
    {
     "data": {
      "image/png": "[encoded data removed]",
      "text/plain": [
       "<matplotlib.figure.Figure at 0x1a06ddd8>"
      ]
     },
     "metadata": {},
     "output_type": "display_data"
    }
   ],
   "source": [
    "plt.plot(trainV, abs(trainV-predictions), '.')\n",
    "plt.xlabel('ENTRIESn_hourly')\n",
    "plt.ylabel('Associated absolute residual')\n",
    "plt.title('Dependent variable vs absolute residuals')"
   ]
  },
  {
   "cell_type": "markdown",
   "metadata": {},
   "source": [
    "It is clear that our model has an underlying problem. We will discuss further in the next point. By the moment, lets check if our model could have other problem: overfitting. The R<sup>2</sup> values for the validation and test sets are:"
   ]
  },
  {
   "cell_type": "code",
   "execution_count": 18,
   "metadata": {
    "collapsed": false
   },
   "outputs": [
    {
     "name": "stdout",
     "output_type": "stream",
     "text": [
      "Validation R^2: 0.533\n",
      "Test R^2: 0.544\n"
     ]
    }
   ],
   "source": [
    "predictions = getPredictions(validationF, intercept, params)\n",
    "r2 = compute_r_squared(validationV, predictions)\n",
    "print 'Validation R^2: {:.3}'.format(r2)\n",
    "\n",
    "predictions = getPredictions(testF, intercept, params)\n",
    "r2 = compute_r_squared(testV, predictions)\n",
    "print 'Test R^2: {:.3}'.format(r2)"
   ]
  },
  {
   "cell_type": "markdown",
   "metadata": {},
   "source": [
    "These values are very similar to that obtained from the training set, so we can say that our model does not have an overfitting problem."
   ]
  },
  {
   "cell_type": "markdown",
   "metadata": {},
   "source": [
    "#### 2.6 What does this R<sup>2</sup>  value mean for the goodness of fit for your regression model? Do you think this linear model to predict ridership is appropriate for this dataset, given this R<sup>2</sup>   value?\n",
    "\n",
    "Our R<sup>2</sup> value indicates that our regression model can explain almost 55% of the variance in the response variable. This is a modest value, although could be acceptable depending on the circumstances. It would be preferable to get a model that explains at least 70-75% of the variance. In any case, the analysis of residuals told us that there is an underlying problem. Large values have very large residuals. The problem also happens with small values, but the impact is much lower. If we plot the dependent variable of the train set (with its original order: UNIT-date-time) versus their residuals (according to our predictive model), we can appreciate a pattern:"
   ]
  },
  {
   "cell_type": "code",
   "execution_count": 19,
   "metadata": {
    "collapsed": false
   },
   "outputs": [
    {
     "data": {
      "text/plain": [
       "<matplotlib.text.Text at 0x198c98d0>"
      ]
     },
     "execution_count": 19,
     "metadata": {},
     "output_type": "execute_result"
    },
    {
     "data": {
      "image/png": "[encoded data removed]",
      "text/plain": [
       "<matplotlib.figure.Figure at 0x1a2ab2e8>"
      ]
     },
     "metadata": {},
     "output_type": "display_data"
    }
   ],
   "source": [
    "predictions = getPredictions(trainF, intercept, params)\n",
    "plt.plot((trainV-predictions)[0:5000])\n",
    "plt.xlabel('ENTRIESn_hourly')\n",
    "plt.ylabel('Residual')\n",
    "plt.title('Dependent variable (with original order) vs residuals')"
   ]
  },
  {
   "cell_type": "markdown",
   "metadata": {},
   "source": [
    "We have plotted only the first 5.000 rows in order to see better the pattern. That means that there is something that our linear model is not able to capture. So a good idea for future work is to investigate non-linear models."
   ]
  },
  {
   "cell_type": "markdown",
   "metadata": {},
   "source": [
    "### Section 3. Visualization\n",
    "\n",
    "#### 3.1 One visualization should contain two histograms: one of  ENTRIESn_hourly for rainy days and one of ENTRIESn_hourly for non-rainy days.\n",
    "\n",
    "See figure in section 1.2 above.\n",
    "\n",
    "#### 3.2 One visualization can be more freeform. You should feel free to implement something that we discussed in class (e.g., scatter plots, line plots) or attempt to implement something more advanced if you'd like. \n",
    "\n",
    "As expected, the number of users in weekends is much lower:"
   ]
  },
  {
   "cell_type": "code",
   "execution_count": 20,
   "metadata": {
    "collapsed": false
   },
   "outputs": [
    {
     "data": {
      "image/png": "[encoded data removed]",
      "text/plain": [
       "<matplotlib.figure.Figure at 0x195f2cf8>"
      ]
     },
     "metadata": {},
     "output_type": "display_data"
    },
    {
     "data": {
      "text/plain": [
       "<ggplot: (32416302)>"
      ]
     },
     "execution_count": 20,
     "metadata": {},
     "output_type": "execute_result"
    }
   ],
   "source": [
    "entries_by_day_df = twdf[['day_week', 'ENTRIESn_hourly']].groupby('day_week').mean()\n",
    "ggplot(aes(x=entries_by_day_df.index, y=\"ENTRIESn_hourly\"), entries_by_day_df) + geom_bar(stat = 'bar', fill = 'blue') + \\\n",
    "    xlab('Day of week') + ylab('Avg. entries') + ggtitle('Entries per day of week') + theme_matplotlib() + \\\n",
    "    scale_x_discrete(labels=['', 'Mon', 'Tue', 'Wed', 'Thr', 'Fri', 'Sat', 'Sun', ''] )"
   ]
  },
  {
   "cell_type": "markdown",
   "metadata": {},
   "source": [
    "### Section 4. Conclusion\n",
    "\n",
    "#### 4.1 From your analysis and interpretation of the data, do more people ride the NYC subway when it is raining or when it is not raining?\n",
    "\n",
    "More people ride the NYC subway when it is raining.\n",
    "\n",
    "#### 4.2 What analyses lead you to this conclusion? You should use results from both your statistical tests and your linear regression to support your analysis.\n",
    "\n",
    "As expected, the number of non-rainy days is much larger than the number of rainy days. Then we should focus on the average ridership of non-rainy days vs rainy days and their different distributions. We use a Mann-Whitney U test to determine if there is a significant difference in their means. This test does not make any assumption about the type of distribution; in contrast with the t-test, which requires a normal distribution (and this is not our case). Our null hypothesis is that the mean of both distributions is the same. The test gives us a two-tail p-value that is slightly lower than our p-critical value (0.05), so we reject the null hypothesis: the distributions have different means. Although we should perform deeper analysis, we think that the directionality is toward rainy days because the mean number of ridership is larger. \n",
    "\n",
    "The results of our linear regression analysis could make us to think in a different way. We have seen that the feature that indicates rainy days (\"rain\") was not significant in the model (low p-value and includes 0 in the confidence interval). We include a related feature, \"precipi\". In the resulting model, its coefficient is negative, which suggest a negative impact in the number of ridership if we keep fixed the other features. But since we have many features (considering the dummy variables), it is difficult to measure the real impact of \"precipi\" feature. So we consider our model is only valid for predictions, not for inference. "
   ]
  },
  {
   "cell_type": "markdown",
   "metadata": {},
   "source": [
    "### Section 5. Reflection\n",
    "\n",
    "#### 5.1 Please discuss potential shortcomings of the methods of your analysis.\n",
    "\n",
    "Regarding the statistical test, it should be complemented with a test that could help us to determine the directionality of the difference between the distributions. Also we think that we should summarize the records by station, date and time. Currently they are summarised by UNIT. It could be a little confusing. A UNIT could be broken one day, and then the distribution of ridership between the UNITs of one station will change. And also sometimes the station could change the type of the UNIT: only in, only out or in/out. To summarise the data by station-date-day could provide a more robust dataset. \n",
    "\n",
    "In the case of the predictive model, maybe the next steps could be to analyse possible interactions between the features. Currently we are not taking into account this possibility. And, as we have seen in our residual analysis, our linear model is not able to capture all the variability of our data. Large values of our dependent variable are associated with very large residuals. Furthermore, there is an underlying cyclic non-linear patter in our residuals, which suggest us to try to use a predictive non-linear model.\n",
    "\n",
    "Another important thing, maybe for a future new analysis, is to take into account that maybe the non-rainy days are more probable in Summer, when there are more people in holydays (and then less people use subway).\n",
    "\n",
    "#### 5.2 (Optional) Do you have any other insight about the dataset that you would like to share with us?\n",
    "\n",
    "It would be a good idea to include a feature that indicates if it is a festive day in NYC. It could drastically change the results for these days. Also could be included some statistics about the usual periods of holydays. Finally, other types of problems that could push people (or not) to the subway: traffic accidents, train breakdowns, periods with more broken cars (i.e. by freezing in Winter),...\n",
    "\n",
    "And finally, the dataset focuses on current weather condition or the max/min/average daily condition. Maybe people take the decision about their transport in the previous day, taking into account the weather forecast. So the predictions of the day before could be included as features.\n"
   ]
  },
  {
   "cell_type": "code",
   "execution_count": null,
   "metadata": {
    "collapsed": true
   },
   "outputs": [],
   "source": []
  }
 ],
 "metadata": {
  "kernelspec": {
   "display_name": "Python 2",
   "language": "python",
   "name": "python2"
  },
  "language_info": {
   "codemirror_mode": {
    "name": "ipython",
    "version": 2
   },
   "file_extension": ".py",
   "mimetype": "text/x-python",
   "name": "python",
   "nbconvert_exporter": "python",
   "pygments_lexer": "ipython2",
   "version": "2.7.10"
  }
 },
 "nbformat": 4,
 "nbformat_minor": 0
}
